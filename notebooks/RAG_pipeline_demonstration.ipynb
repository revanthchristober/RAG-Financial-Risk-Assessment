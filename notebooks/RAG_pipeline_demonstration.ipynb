{
 "cells": [
  {
   "cell_type": "markdown",
   "metadata": {},
   "source": [
    "# **RAG-based Financial Risk Assessment Tool Demo**\n",
    "\n",
    "This notebook demonstrates the Retrieval-Augmented Generation (RAG) pipeline for financial risk assessment using a dataset of S&P 500 companies. We'll walk through data loading, preprocessing, model setup, and running sample queries to generate insightful responses."
   ]
  },
  {
   "cell_type": "markdown",
   "metadata": {},
   "source": [
    "---"
   ]
  },
  {
   "cell_type": "markdown",
   "metadata": {},
   "source": [
    "## **1. Setup**"
   ]
  },
  {
   "cell_type": "markdown",
   "metadata": {},
   "source": [
    "### **1.1. Import Necessary Libraries**"
   ]
  },
  {
   "cell_type": "code",
   "execution_count": null,
   "metadata": {},
   "outputs": [],
   "source": [
    "# Standard Libraries\n",
    "import os\n",
    "import sys\n",
    "import pandas as pd\n",
    "import matplotlib.pyplot as plt\n",
    "import seaborn as sns\n",
    "\n",
    "# Add the src directory to the Python path\n",
    "sys.path.append('../src')"
   ]
  },
  {
   "cell_type": "code",
   "execution_count": null,
   "metadata": {},
   "outputs": [],
   "source": [
    "# Custom Modules\n",
    "from retriever import DataRetriever\n",
    "from generator import TextGenerator\n",
    "from pipelines.risk_assessment_pipeline import RiskAssessmentPipeline\n",
    "from utils.data_processing import clean_data\n",
    "from utils.logging_utils import setup_logging\n",
    "\n",
    "# Configuration\n",
    "from config import Config"
   ]
  },
  {
   "cell_type": "code",
   "execution_count": null,
   "metadata": {},
   "outputs": [],
   "source": [
    "# For displaying plots inline\n",
    "%matplotlib inline"
   ]
  },
  {
   "cell_type": "markdown",
   "metadata": {},
   "source": [
    "### **1.2. Initialize Logger**"
   ]
  },
  {
   "cell_type": "code",
   "execution_count": null,
   "metadata": {},
   "outputs": [],
   "source": [
    "logger = setup_logging()"
   ]
  },
  {
   "cell_type": "markdown",
   "metadata": {},
   "source": [
    "---"
   ]
  },
  {
   "cell_type": "markdown",
   "metadata": {},
   "source": [
    "## **2. Data Loading and Exploration**"
   ]
  },
  {
   "cell_type": "markdown",
   "metadata": {},
   "source": [
    "\n",
    "### **2.1. Load the Dataset**"
   ]
  },
  {
   "cell_type": "code",
   "execution_count": null,
   "metadata": {},
   "outputs": [],
   "source": [
    "# Define the path to the dataset\n",
    "data_path = '../data/raw/financials.csv'  # Ensure this path is correct\n",
    "\n",
    "# Initialize the DataRetriever\n",
    "retriever = DataRetriever(file_path=data_path)\n",
    "\n",
    "# Load the data\n",
    "df = retriever.load_data()\n",
    "\n",
    "# Check if data is loaded\n",
    "if df.empty:\n",
    "    logger.error(\"DataFrame is empty. Check if the dataset exists at the specified path.\")\n",
    "else:\n",
    "    logger.info(f\"Data loaded successfully with shape: {df.shape}\")"
   ]
  },
  {
   "cell_type": "markdown",
   "metadata": {},
   "source": [
    "### **2.2. Preview the Data**"
   ]
  },
  {
   "cell_type": "code",
   "execution_count": null,
   "metadata": {},
   "outputs": [],
   "source": [
    "# Display the first 5 rows\n",
    "df.head()"
   ]
  },
  {
   "cell_type": "markdown",
   "metadata": {},
   "source": [
    "### **2.3. Basic Data Statistics**"
   ]
  },
  {
   "cell_type": "code",
   "execution_count": null,
   "metadata": {},
   "outputs": [],
   "source": [
    "# Get basic statistics\n",
    "df.describe()"
   ]
  },
  {
   "cell_type": "markdown",
   "metadata": {},
   "source": [
    "### **2.4. Check for Missing Values**\n"
   ]
  },
  {
   "cell_type": "code",
   "execution_count": null,
   "metadata": {},
   "outputs": [],
   "source": [
    "# Sum of missing values per column\n",
    "df.isnull().sum()"
   ]
  },
  {
   "cell_type": "markdown",
   "metadata": {},
   "source": [
    "---"
   ]
  },
  {
   "cell_type": "markdown",
   "metadata": {},
   "source": [
    "\n",
    "## **3. Data Preprocessing**\n"
   ]
  },
  {
   "cell_type": "markdown",
   "metadata": {},
   "source": [
    "### **3.1. Data Cleaning**\n"
   ]
  },
  {
   "cell_type": "code",
   "execution_count": null,
   "metadata": {},
   "outputs": [],
   "source": [
    "# Clean the data using the clean_data function\n",
    "clean_df = clean_data(df)\n",
    "\n",
    "# Check the shape after cleaning\n",
    "logger.info(f\"Data shape after cleaning: {clean_df.shape}\")"
   ]
  },
  {
   "cell_type": "markdown",
   "metadata": {},
   "source": [
    "### **3.2. Data Visualization**\n",
    "\n",
    "- Let's visualize some key financial metrics to understand the data better."
   ]
  },
  {
   "cell_type": "code",
   "execution_count": null,
   "metadata": {},
   "outputs": [],
   "source": [
    "# Setting up the plot style\n",
    "sns.set(style=\"whitegrid\")\n",
    "\n",
    "# Plot Market Capitalization Distribution\n",
    "plt.figure(figsize=(10,6))\n",
    "sns.histplot(clean_df['Market Cap'], bins=50, kde=True)\n",
    "plt.title('Market Capitalization Distribution')\n",
    "plt.xlabel('Market Cap (in billions)')\n",
    "plt.ylabel('Frequency')\n",
    "plt.show()"
   ]
  },
  {
   "cell_type": "code",
   "execution_count": null,
   "metadata": {},
   "outputs": [],
   "source": [
    "# Plot Price vs. Earnings/Share\n",
    "plt.figure(figsize=(10,6))\n",
    "sns.scatterplot(data=clean_df, x='Price', y='Earnings/Share', hue='Sector')\n",
    "plt.title('Price vs. Earnings/Share by Sector')\n",
    "plt.xlabel('Price (in USD)')\n",
    "plt.ylabel('Earnings/Share (in USD)')\n",
    "plt.legend(bbox_to_anchor=(1.05, 1), loc=2, borderaxespad=0.)\n",
    "plt.show()"
   ]
  },
  {
   "cell_type": "markdown",
   "metadata": {},
   "source": [
    "---"
   ]
  },
  {
   "cell_type": "markdown",
   "metadata": {},
   "source": [
    "## **4. Setting Up the RAG Pipeline**\n"
   ]
  },
  {
   "cell_type": "markdown",
   "metadata": {},
   "source": [
    "### **4.1. Initialize the Text Generator**\n",
    "\n",
    "- We'll use the `TextGenerator` class, which utilizes LangChain and OpenAI's GPT-3.5-turbo model."
   ]
  },
  {
   "cell_type": "code",
   "execution_count": null,
   "metadata": {},
   "outputs": [],
   "source": [
    "# Initialize the TextGenerator\n",
    "api_key = Config.API_KEY  # Ensure your OpenAI API key is set in the Config\n",
    "generator = TextGenerator(api_key=api_key)"
   ]
  },
  {
   "cell_type": "markdown",
   "metadata": {},
   "source": [
    "### **4.2. Define the Risk Assessment Pipeline**\n",
    "\n",
    "- The `RiskAssessmentPipeline` will integrate the retriever and generator to process queries."
   ]
  },
  {
   "cell_type": "code",
   "execution_count": null,
   "metadata": {},
   "outputs": [],
   "source": [
    "# Initialize the RiskAssessmentPipeline\n",
    "pipeline = RiskAssessmentPipeline(retriever=retriever, generator=generator)"
   ]
  },
  {
   "cell_type": "markdown",
   "metadata": {},
   "source": [
    "---"
   ]
  },
  {
   "cell_type": "markdown",
   "metadata": {},
   "source": [
    "## **5. Running Sample Queries**\n"
   ]
  },
  {
   "cell_type": "markdown",
   "metadata": {},
   "source": [
    "### **5.1. Sample Query 1: Assessing a Specific Company's Risk**\n",
    "\n",
    "Let's assess the financial risk of a specific company, say \"Apple Inc.\""
   ]
  },
  {
   "cell_type": "code",
   "execution_count": null,
   "metadata": {},
   "outputs": [],
   "source": [
    "# Define the query\n",
    "query_company = \"Apple Inc.\"\n",
    "\n",
    "# Retrieve data related to the company\n",
    "company_data = clean_df[clean_df['Name'] == query_company]\n",
    "\n",
    "if company_data.empty:\n",
    "    logger.warning(f\"No data found for {query_company}.\")\n",
    "else:\n",
    "    # Prepare the prompt\n",
    "    prompt = (f\"Based on the following financial data, assess the financial risk of {query_company}:\\n\"\n",
    "              f\"Price: {company_data['Price'].values[0]} USD\\n\"\n",
    "              f\"Price/Earnings: {company_data['Price/Earnings'].values[0]}\\n\"\n",
    "              f\"Dividend Yield: {company_data['Dividend Yield'].values[0]}%\\n\"\n",
    "              f\"Earnings/Share: {company_data['Earnings/Share'].values[0]} USD\\n\"\n",
    "              f\"52 Week Low: {company_data['52 Week Low'].values[0]} USD\\n\"\n",
    "              f\"52 Week High: {company_data['52 Week High'].values[0]} USD\\n\"\n",
    "              f\"Market Cap: {company_data['Market Cap'].values[0]} billion USD\\n\"\n",
    "              f\"EBITDA: {company_data['EBITDA'].values[0]} billion USD\\n\"\n",
    "              f\"Price/Sales: {company_data['Price/Sales'].values[0]}\\n\"\n",
    "              f\"Price/Book: {company_data['Price/Book'].values[0]}\\n\"\n",
    "              f\"SEC Filings: {company_data['SEC Filings'].values[0]}\")\n",
    "    \n",
    "    # Generate the assessment\n",
    "    assessment = generator.generate_text(prompt)\n",
    "    \n",
    "    # Display the assessment\n",
    "    print(f\"Financial Risk Assessment for {query_company}:\\n\")\n",
    "    print(assessment)"
   ]
  },
  {
   "cell_type": "markdown",
   "metadata": {},
   "source": [
    "### **5.2. Sample Query 2: Sector-Wide Risk Analysis**\n",
    "\n",
    "- Assess the financial risk associated with the \"Technology\" sector."
   ]
  },
  {
   "cell_type": "code",
   "execution_count": null,
   "metadata": {},
   "outputs": [],
   "source": [
    "# Define the sector\n",
    "query_sector = \"Technology\"\n",
    "\n",
    "# Retrieve data related to the sector\n",
    "sector_data = clean_df[clean_df['Sector'] == query_sector]\n",
    "\n",
    "if sector_data.empty:\n",
    "    logger.warning(f\"No data found for sector: {query_sector}.\")\n",
    "else:\n",
    "    # Aggregate key metrics\n",
    "    avg_price = sector_data['Price'].mean()\n",
    "    avg_pe_ratio = sector_data['Price/Earnings'].mean()\n",
    "    avg_div_yield = sector_data['Dividend Yield'].mean()\n",
    "    avg_earnings = sector_data['Earnings/Share'].mean()\n",
    "    avg_market_cap = sector_data['Market Cap'].mean()\n",
    "    \n",
    "    # Prepare the prompt\n",
    "    prompt = (f\"Assess the financial risk associated with the {query_sector} sector based on the following average metrics:\\n\"\n",
    "              f\"Average Price: {avg_price:.2f} USD\\n\"\n",
    "              f\"Average Price/Earnings: {avg_pe_ratio:.2f}\\n\"\n",
    "              f\"Average Dividend Yield: {avg_div_yield:.2f}%\\n\"\n",
    "              f\"Average Earnings/Share: {avg_earnings:.2f} USD\\n\"\n",
    "              f\"Average Market Cap: {avg_market_cap:.2f} billion USD\")\n",
    "    \n",
    "    # Generate the assessment\n",
    "    assessment = generator.generate_text(prompt)\n",
    "    \n",
    "    # Display the assessment\n",
    "    print(f\"Financial Risk Assessment for {query_sector} Sector:\\n\")\n",
    "    print(assessment)"
   ]
  },
  {
   "cell_type": "markdown",
   "metadata": {},
   "source": [
    "### **5.3. Sample Query 3: Comparing Two Companies**\n",
    "\n",
    "Compare the financial risks of \"Microsoft Corporation\" and \"Tesla Inc.\""
   ]
  },
  {
   "cell_type": "code",
   "execution_count": null,
   "metadata": {},
   "outputs": [],
   "source": [
    "# Define the companies\n",
    "company_1 = \"Microsoft Corporation\"\n",
    "company_2 = \"Tesla Inc.\"\n",
    "\n",
    "# Retrieve data for both companies\n",
    "data_company_1 = clean_df[clean_df['Name'] == company_1]\n",
    "data_company_2 = clean_df[clean_df['Name'] == company_2]\n",
    "\n",
    "if data_company_1.empty or data_company_2.empty:\n",
    "    logger.warning(f\"Data missing for one or both companies: {company_1}, {company_2}.\")\n",
    "else:\n",
    "    # Prepare the prompt\n",
    "    prompt = (f\"Compare the financial risks of the following two companies based on their financial data:\\n\\n\"\n",
    "              f\"{company_1} Data: {data_company_1.to_dict(orient='records')[0]}\\n\\n\"\n",
    "              f\"{company_2} Data: {data_company_2.to_dict(orient='records')[0]}\")\n",
    "    \n",
    "    # Generate the comparison\n",
    "    comparison = generator.generate_text(prompt)\n",
    "    \n",
    "    # Display the comparison\n",
    "    print(f\"Financial Risk Comparison between {company_1} and {company_2}:\\n\")\n",
    "    print(comparison)"
   ]
  },
  {
   "cell_type": "markdown",
   "metadata": {},
   "source": [
    "---"
   ]
  },
  {
   "cell_type": "markdown",
   "metadata": {},
   "source": [
    "## **6. Conclusion**\n",
    "\n",
    "In this notebook, we've demonstrated the setup and execution of a Retrieval-Augmented Generation pipeline for financial risk assessment using specific financial data columns. By integrating data retrieval, preprocessing, and advanced language models, we can generate insightful analyses that aid in understanding financial risks associated with companies and sectors.\n"
   ]
  },
  {
   "cell_type": "markdown",
   "metadata": {},
   "source": [
    "---"
   ]
  },
  {
   "cell_type": "markdown",
   "metadata": {},
   "source": [
    "\n",
    "**Note:** Before running this notebook, ensure that:\n",
    "\n",
    "1. The dataset `financials.csv` is placed in the path `../data/raw/` relative to the notebook's location.\n",
    "2. The `src` directory is correctly structured and contains all the necessary modules\n",
    "\n",
    " (e.g., `retriever.py`, `generator.py`, etc.).\n",
    "3. The API key for OpenAI is correctly set in the `Config` class."
   ]
  }
 ],
 "metadata": {
  "language_info": {
   "name": "python"
  }
 },
 "nbformat": 4,
 "nbformat_minor": 2
}
