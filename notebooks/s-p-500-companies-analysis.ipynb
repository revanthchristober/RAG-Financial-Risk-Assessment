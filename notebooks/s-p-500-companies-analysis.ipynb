{
 "cells": [
  {
   "cell_type": "code",
   "execution_count": 1,
   "id": "0d7b9d70",
   "metadata": {
    "_cell_guid": "b1076dfc-b9ad-4769-8c92-a6c4dae69d19",
    "_uuid": "8f2839f25d086af736a60e9eeb907d3b93b6e0e5",
    "execution": {
     "iopub.execute_input": "2024-02-15T07:13:09.780036Z",
     "iopub.status.busy": "2024-02-15T07:13:09.779285Z",
     "iopub.status.idle": "2024-02-15T07:13:10.723501Z",
     "shell.execute_reply": "2024-02-15T07:13:10.722494Z"
    },
    "papermill": {
     "duration": 0.961715,
     "end_time": "2024-02-15T07:13:10.726088",
     "exception": false,
     "start_time": "2024-02-15T07:13:09.764373",
     "status": "completed"
    },
    "tags": []
   },
   "outputs": [
    {
     "name": "stdout",
     "output_type": "stream",
     "text": [
      "/kaggle/input/sp-500-companies-with-financial-information/financials.csv\n"
     ]
    }
   ],
   "source": [
    "# This Python 3 environment comes with many helpful analytics libraries installed\n",
    "# It is defined by the kaggle/python Docker image: https://github.com/kaggle/docker-python\n",
    "# For example, here's several helpful packages to load\n",
    "\n",
    "import numpy as np # linear algebra\n",
    "import pandas as pd # data processing, CSV file I/O (e.g. pd.read_csv)\n",
    "\n",
    "# Input data files are available in the read-only \"../input/\" directory\n",
    "# For example, running this (by clicking run or pressing Shift+Enter) will list all files under the input directory\n",
    "\n",
    "import os\n",
    "for dirname, _, filenames in os.walk('/kaggle/input'):\n",
    "    for filename in filenames:\n",
    "        print(os.path.join(dirname, filename))\n",
    "\n",
    "# You can write up to 20GB to the current directory (/kaggle/working/) that gets preserved as output when you create a version using \"Save & Run All\" \n",
    "# You can also write temporary files to /kaggle/temp/, but they won't be saved outside of the current session"
   ]
  },
  {
   "cell_type": "markdown",
   "id": "4cfc1153",
   "metadata": {
    "papermill": {
     "duration": 0.009802,
     "end_time": "2024-02-15T07:13:10.746919",
     "exception": false,
     "start_time": "2024-02-15T07:13:10.737117",
     "status": "completed"
    },
    "tags": []
   },
   "source": [
    "## Importing Python libraries for EDA"
   ]
  },
  {
   "cell_type": "code",
   "execution_count": 2,
   "id": "03c41284",
   "metadata": {
    "execution": {
     "iopub.execute_input": "2024-02-15T07:13:10.769580Z",
     "iopub.status.busy": "2024-02-15T07:13:10.768742Z",
     "iopub.status.idle": "2024-02-15T07:13:12.265327Z",
     "shell.execute_reply": "2024-02-15T07:13:12.264104Z"
    },
    "papermill": {
     "duration": 1.511034,
     "end_time": "2024-02-15T07:13:12.268258",
     "exception": false,
     "start_time": "2024-02-15T07:13:10.757224",
     "status": "completed"
    },
    "tags": []
   },
   "outputs": [],
   "source": [
    "import numpy as np\n",
    "import pandas as pd\n",
    "import seaborn as sns \n",
    "import matplotlib.pyplot as plt"
   ]
  },
  {
   "cell_type": "markdown",
   "id": "86fe2cc5",
   "metadata": {
    "papermill": {
     "duration": 0.009668,
     "end_time": "2024-02-15T07:13:12.288110",
     "exception": false,
     "start_time": "2024-02-15T07:13:12.278442",
     "status": "completed"
    },
    "tags": []
   },
   "source": [
    "## Importing the Dataset"
   ]
  },
  {
   "cell_type": "code",
   "execution_count": 3,
   "id": "cedf9ce4",
   "metadata": {
    "execution": {
     "iopub.execute_input": "2024-02-15T07:13:12.309908Z",
     "iopub.status.busy": "2024-02-15T07:13:12.309472Z",
     "iopub.status.idle": "2024-02-15T07:13:12.368995Z",
     "shell.execute_reply": "2024-02-15T07:13:12.367872Z"
    },
    "papermill": {
     "duration": 0.073572,
     "end_time": "2024-02-15T07:13:12.371648",
     "exception": false,
     "start_time": "2024-02-15T07:13:12.298076",
     "status": "completed"
    },
    "tags": []
   },
   "outputs": [
    {
     "data": {
      "text/html": [
       "<div>\n",
       "<style scoped>\n",
       "    .dataframe tbody tr th:only-of-type {\n",
       "        vertical-align: middle;\n",
       "    }\n",
       "\n",
       "    .dataframe tbody tr th {\n",
       "        vertical-align: top;\n",
       "    }\n",
       "\n",
       "    .dataframe thead th {\n",
       "        text-align: right;\n",
       "    }\n",
       "</style>\n",
       "<table border=\"1\" class=\"dataframe\">\n",
       "  <thead>\n",
       "    <tr style=\"text-align: right;\">\n",
       "      <th></th>\n",
       "      <th>Symbol</th>\n",
       "      <th>Name</th>\n",
       "      <th>Sector</th>\n",
       "      <th>Price</th>\n",
       "      <th>Price/Earnings</th>\n",
       "      <th>Dividend Yield</th>\n",
       "      <th>Earnings/Share</th>\n",
       "      <th>52 Week Low</th>\n",
       "      <th>52 Week High</th>\n",
       "      <th>Market Cap</th>\n",
       "      <th>EBITDA</th>\n",
       "      <th>Price/Sales</th>\n",
       "      <th>Price/Book</th>\n",
       "      <th>SEC Filings</th>\n",
       "    </tr>\n",
       "  </thead>\n",
       "  <tbody>\n",
       "    <tr>\n",
       "      <th>0</th>\n",
       "      <td>MMM</td>\n",
       "      <td>3M Company</td>\n",
       "      <td>Industrials</td>\n",
       "      <td>222.89</td>\n",
       "      <td>24.31</td>\n",
       "      <td>2.332862</td>\n",
       "      <td>7.92</td>\n",
       "      <td>259.77</td>\n",
       "      <td>175.490</td>\n",
       "      <td>1.387211e+11</td>\n",
       "      <td>9.048000e+09</td>\n",
       "      <td>4.390271</td>\n",
       "      <td>11.34</td>\n",
       "      <td>http://www.sec.gov/cgi-bin/browse-edgar?action...</td>\n",
       "    </tr>\n",
       "    <tr>\n",
       "      <th>1</th>\n",
       "      <td>AOS</td>\n",
       "      <td>A.O. Smith Corp</td>\n",
       "      <td>Industrials</td>\n",
       "      <td>60.24</td>\n",
       "      <td>27.76</td>\n",
       "      <td>1.147959</td>\n",
       "      <td>1.70</td>\n",
       "      <td>68.39</td>\n",
       "      <td>48.925</td>\n",
       "      <td>1.078342e+10</td>\n",
       "      <td>6.010000e+08</td>\n",
       "      <td>3.575483</td>\n",
       "      <td>6.35</td>\n",
       "      <td>http://www.sec.gov/cgi-bin/browse-edgar?action...</td>\n",
       "    </tr>\n",
       "    <tr>\n",
       "      <th>2</th>\n",
       "      <td>ABT</td>\n",
       "      <td>Abbott Laboratories</td>\n",
       "      <td>Health Care</td>\n",
       "      <td>56.27</td>\n",
       "      <td>22.51</td>\n",
       "      <td>1.908982</td>\n",
       "      <td>0.26</td>\n",
       "      <td>64.60</td>\n",
       "      <td>42.280</td>\n",
       "      <td>1.021210e+11</td>\n",
       "      <td>5.744000e+09</td>\n",
       "      <td>3.740480</td>\n",
       "      <td>3.19</td>\n",
       "      <td>http://www.sec.gov/cgi-bin/browse-edgar?action...</td>\n",
       "    </tr>\n",
       "    <tr>\n",
       "      <th>3</th>\n",
       "      <td>ABBV</td>\n",
       "      <td>AbbVie Inc.</td>\n",
       "      <td>Health Care</td>\n",
       "      <td>108.48</td>\n",
       "      <td>19.41</td>\n",
       "      <td>2.499560</td>\n",
       "      <td>3.29</td>\n",
       "      <td>125.86</td>\n",
       "      <td>60.050</td>\n",
       "      <td>1.813863e+11</td>\n",
       "      <td>1.031000e+10</td>\n",
       "      <td>6.291571</td>\n",
       "      <td>26.14</td>\n",
       "      <td>http://www.sec.gov/cgi-bin/browse-edgar?action...</td>\n",
       "    </tr>\n",
       "    <tr>\n",
       "      <th>4</th>\n",
       "      <td>ACN</td>\n",
       "      <td>Accenture plc</td>\n",
       "      <td>Information Technology</td>\n",
       "      <td>150.51</td>\n",
       "      <td>25.47</td>\n",
       "      <td>1.714470</td>\n",
       "      <td>5.44</td>\n",
       "      <td>162.60</td>\n",
       "      <td>114.820</td>\n",
       "      <td>9.876586e+10</td>\n",
       "      <td>5.643228e+09</td>\n",
       "      <td>2.604117</td>\n",
       "      <td>10.62</td>\n",
       "      <td>http://www.sec.gov/cgi-bin/browse-edgar?action...</td>\n",
       "    </tr>\n",
       "    <tr>\n",
       "      <th>...</th>\n",
       "      <td>...</td>\n",
       "      <td>...</td>\n",
       "      <td>...</td>\n",
       "      <td>...</td>\n",
       "      <td>...</td>\n",
       "      <td>...</td>\n",
       "      <td>...</td>\n",
       "      <td>...</td>\n",
       "      <td>...</td>\n",
       "      <td>...</td>\n",
       "      <td>...</td>\n",
       "      <td>...</td>\n",
       "      <td>...</td>\n",
       "      <td>...</td>\n",
       "    </tr>\n",
       "    <tr>\n",
       "      <th>500</th>\n",
       "      <td>XYL</td>\n",
       "      <td>Xylem Inc.</td>\n",
       "      <td>Industrials</td>\n",
       "      <td>70.24</td>\n",
       "      <td>30.94</td>\n",
       "      <td>1.170079</td>\n",
       "      <td>1.83</td>\n",
       "      <td>76.81</td>\n",
       "      <td>46.860</td>\n",
       "      <td>1.291502e+10</td>\n",
       "      <td>7.220000e+08</td>\n",
       "      <td>2.726209</td>\n",
       "      <td>5.31</td>\n",
       "      <td>http://www.sec.gov/cgi-bin/browse-edgar?action...</td>\n",
       "    </tr>\n",
       "    <tr>\n",
       "      <th>501</th>\n",
       "      <td>YUM</td>\n",
       "      <td>Yum! Brands Inc</td>\n",
       "      <td>Consumer Discretionary</td>\n",
       "      <td>76.30</td>\n",
       "      <td>27.25</td>\n",
       "      <td>1.797080</td>\n",
       "      <td>4.07</td>\n",
       "      <td>86.93</td>\n",
       "      <td>62.850</td>\n",
       "      <td>2.700330e+10</td>\n",
       "      <td>2.289000e+09</td>\n",
       "      <td>6.313636</td>\n",
       "      <td>212.08</td>\n",
       "      <td>http://www.sec.gov/cgi-bin/browse-edgar?action...</td>\n",
       "    </tr>\n",
       "    <tr>\n",
       "      <th>502</th>\n",
       "      <td>ZBH</td>\n",
       "      <td>Zimmer Biomet Holdings</td>\n",
       "      <td>Health Care</td>\n",
       "      <td>115.53</td>\n",
       "      <td>14.32</td>\n",
       "      <td>0.794834</td>\n",
       "      <td>9.01</td>\n",
       "      <td>133.49</td>\n",
       "      <td>108.170</td>\n",
       "      <td>2.445470e+10</td>\n",
       "      <td>2.007400e+09</td>\n",
       "      <td>3.164895</td>\n",
       "      <td>2.39</td>\n",
       "      <td>http://www.sec.gov/cgi-bin/browse-edgar?action...</td>\n",
       "    </tr>\n",
       "    <tr>\n",
       "      <th>503</th>\n",
       "      <td>ZION</td>\n",
       "      <td>Zions Bancorp</td>\n",
       "      <td>Financials</td>\n",
       "      <td>50.71</td>\n",
       "      <td>17.73</td>\n",
       "      <td>1.480933</td>\n",
       "      <td>2.60</td>\n",
       "      <td>55.61</td>\n",
       "      <td>38.430</td>\n",
       "      <td>1.067068e+10</td>\n",
       "      <td>0.000000e+00</td>\n",
       "      <td>3.794579</td>\n",
       "      <td>1.42</td>\n",
       "      <td>http://www.sec.gov/cgi-bin/browse-edgar?action...</td>\n",
       "    </tr>\n",
       "    <tr>\n",
       "      <th>504</th>\n",
       "      <td>ZTS</td>\n",
       "      <td>Zoetis</td>\n",
       "      <td>Health Care</td>\n",
       "      <td>71.51</td>\n",
       "      <td>32.80</td>\n",
       "      <td>0.682372</td>\n",
       "      <td>1.65</td>\n",
       "      <td>80.13</td>\n",
       "      <td>52.000</td>\n",
       "      <td>3.599111e+10</td>\n",
       "      <td>1.734000e+09</td>\n",
       "      <td>9.280896</td>\n",
       "      <td>18.09</td>\n",
       "      <td>http://www.sec.gov/cgi-bin/browse-edgar?action...</td>\n",
       "    </tr>\n",
       "  </tbody>\n",
       "</table>\n",
       "<p>505 rows × 14 columns</p>\n",
       "</div>"
      ],
      "text/plain": [
       "    Symbol                    Name                  Sector   Price  \\\n",
       "0      MMM              3M Company             Industrials  222.89   \n",
       "1      AOS         A.O. Smith Corp             Industrials   60.24   \n",
       "2      ABT     Abbott Laboratories             Health Care   56.27   \n",
       "3     ABBV             AbbVie Inc.             Health Care  108.48   \n",
       "4      ACN           Accenture plc  Information Technology  150.51   \n",
       "..     ...                     ...                     ...     ...   \n",
       "500    XYL              Xylem Inc.             Industrials   70.24   \n",
       "501    YUM         Yum! Brands Inc  Consumer Discretionary   76.30   \n",
       "502    ZBH  Zimmer Biomet Holdings             Health Care  115.53   \n",
       "503   ZION           Zions Bancorp              Financials   50.71   \n",
       "504    ZTS                  Zoetis             Health Care   71.51   \n",
       "\n",
       "     Price/Earnings  Dividend Yield  Earnings/Share  52 Week Low  \\\n",
       "0             24.31        2.332862            7.92       259.77   \n",
       "1             27.76        1.147959            1.70        68.39   \n",
       "2             22.51        1.908982            0.26        64.60   \n",
       "3             19.41        2.499560            3.29       125.86   \n",
       "4             25.47        1.714470            5.44       162.60   \n",
       "..              ...             ...             ...          ...   \n",
       "500           30.94        1.170079            1.83        76.81   \n",
       "501           27.25        1.797080            4.07        86.93   \n",
       "502           14.32        0.794834            9.01       133.49   \n",
       "503           17.73        1.480933            2.60        55.61   \n",
       "504           32.80        0.682372            1.65        80.13   \n",
       "\n",
       "     52 Week High    Market Cap        EBITDA  Price/Sales  Price/Book  \\\n",
       "0         175.490  1.387211e+11  9.048000e+09     4.390271       11.34   \n",
       "1          48.925  1.078342e+10  6.010000e+08     3.575483        6.35   \n",
       "2          42.280  1.021210e+11  5.744000e+09     3.740480        3.19   \n",
       "3          60.050  1.813863e+11  1.031000e+10     6.291571       26.14   \n",
       "4         114.820  9.876586e+10  5.643228e+09     2.604117       10.62   \n",
       "..            ...           ...           ...          ...         ...   \n",
       "500        46.860  1.291502e+10  7.220000e+08     2.726209        5.31   \n",
       "501        62.850  2.700330e+10  2.289000e+09     6.313636      212.08   \n",
       "502       108.170  2.445470e+10  2.007400e+09     3.164895        2.39   \n",
       "503        38.430  1.067068e+10  0.000000e+00     3.794579        1.42   \n",
       "504        52.000  3.599111e+10  1.734000e+09     9.280896       18.09   \n",
       "\n",
       "                                           SEC Filings  \n",
       "0    http://www.sec.gov/cgi-bin/browse-edgar?action...  \n",
       "1    http://www.sec.gov/cgi-bin/browse-edgar?action...  \n",
       "2    http://www.sec.gov/cgi-bin/browse-edgar?action...  \n",
       "3    http://www.sec.gov/cgi-bin/browse-edgar?action...  \n",
       "4    http://www.sec.gov/cgi-bin/browse-edgar?action...  \n",
       "..                                                 ...  \n",
       "500  http://www.sec.gov/cgi-bin/browse-edgar?action...  \n",
       "501  http://www.sec.gov/cgi-bin/browse-edgar?action...  \n",
       "502  http://www.sec.gov/cgi-bin/browse-edgar?action...  \n",
       "503  http://www.sec.gov/cgi-bin/browse-edgar?action...  \n",
       "504  http://www.sec.gov/cgi-bin/browse-edgar?action...  \n",
       "\n",
       "[505 rows x 14 columns]"
      ]
     },
     "execution_count": 3,
     "metadata": {},
     "output_type": "execute_result"
    }
   ],
   "source": [
    "data=pd.read_csv(r\"/kaggle/input/sp-500-companies-with-financial-information/financials.csv\")\n",
    "data"
   ]
  },
  {
   "cell_type": "markdown",
   "id": "58ea5958",
   "metadata": {
    "papermill": {
     "duration": 0.010554,
     "end_time": "2024-02-15T07:13:12.392971",
     "exception": false,
     "start_time": "2024-02-15T07:13:12.382417",
     "status": "completed"
    },
    "tags": []
   },
   "source": [
    "## Printing First 10 data"
   ]
  },
  {
   "cell_type": "code",
   "execution_count": 4,
   "id": "7a5d4a06",
   "metadata": {
    "execution": {
     "iopub.execute_input": "2024-02-15T07:13:12.416203Z",
     "iopub.status.busy": "2024-02-15T07:13:12.415807Z",
     "iopub.status.idle": "2024-02-15T07:13:12.444528Z",
     "shell.execute_reply": "2024-02-15T07:13:12.443388Z"
    },
    "papermill": {
     "duration": 0.043714,
     "end_time": "2024-02-15T07:13:12.447162",
     "exception": false,
     "start_time": "2024-02-15T07:13:12.403448",
     "status": "completed"
    },
    "tags": []
   },
   "outputs": [
    {
     "data": {
      "text/html": [
       "<div>\n",
       "<style scoped>\n",
       "    .dataframe tbody tr th:only-of-type {\n",
       "        vertical-align: middle;\n",
       "    }\n",
       "\n",
       "    .dataframe tbody tr th {\n",
       "        vertical-align: top;\n",
       "    }\n",
       "\n",
       "    .dataframe thead th {\n",
       "        text-align: right;\n",
       "    }\n",
       "</style>\n",
       "<table border=\"1\" class=\"dataframe\">\n",
       "  <thead>\n",
       "    <tr style=\"text-align: right;\">\n",
       "      <th></th>\n",
       "      <th>Symbol</th>\n",
       "      <th>Name</th>\n",
       "      <th>Sector</th>\n",
       "      <th>Price</th>\n",
       "      <th>Price/Earnings</th>\n",
       "      <th>Dividend Yield</th>\n",
       "      <th>Earnings/Share</th>\n",
       "      <th>52 Week Low</th>\n",
       "      <th>52 Week High</th>\n",
       "      <th>Market Cap</th>\n",
       "      <th>EBITDA</th>\n",
       "      <th>Price/Sales</th>\n",
       "      <th>Price/Book</th>\n",
       "      <th>SEC Filings</th>\n",
       "    </tr>\n",
       "  </thead>\n",
       "  <tbody>\n",
       "    <tr>\n",
       "      <th>0</th>\n",
       "      <td>MMM</td>\n",
       "      <td>3M Company</td>\n",
       "      <td>Industrials</td>\n",
       "      <td>222.89</td>\n",
       "      <td>24.31</td>\n",
       "      <td>2.332862</td>\n",
       "      <td>7.92</td>\n",
       "      <td>259.770</td>\n",
       "      <td>175.490</td>\n",
       "      <td>1.387211e+11</td>\n",
       "      <td>9.048000e+09</td>\n",
       "      <td>4.390271</td>\n",
       "      <td>11.34</td>\n",
       "      <td>http://www.sec.gov/cgi-bin/browse-edgar?action...</td>\n",
       "    </tr>\n",
       "    <tr>\n",
       "      <th>1</th>\n",
       "      <td>AOS</td>\n",
       "      <td>A.O. Smith Corp</td>\n",
       "      <td>Industrials</td>\n",
       "      <td>60.24</td>\n",
       "      <td>27.76</td>\n",
       "      <td>1.147959</td>\n",
       "      <td>1.70</td>\n",
       "      <td>68.390</td>\n",
       "      <td>48.925</td>\n",
       "      <td>1.078342e+10</td>\n",
       "      <td>6.010000e+08</td>\n",
       "      <td>3.575483</td>\n",
       "      <td>6.35</td>\n",
       "      <td>http://www.sec.gov/cgi-bin/browse-edgar?action...</td>\n",
       "    </tr>\n",
       "    <tr>\n",
       "      <th>2</th>\n",
       "      <td>ABT</td>\n",
       "      <td>Abbott Laboratories</td>\n",
       "      <td>Health Care</td>\n",
       "      <td>56.27</td>\n",
       "      <td>22.51</td>\n",
       "      <td>1.908982</td>\n",
       "      <td>0.26</td>\n",
       "      <td>64.600</td>\n",
       "      <td>42.280</td>\n",
       "      <td>1.021210e+11</td>\n",
       "      <td>5.744000e+09</td>\n",
       "      <td>3.740480</td>\n",
       "      <td>3.19</td>\n",
       "      <td>http://www.sec.gov/cgi-bin/browse-edgar?action...</td>\n",
       "    </tr>\n",
       "    <tr>\n",
       "      <th>3</th>\n",
       "      <td>ABBV</td>\n",
       "      <td>AbbVie Inc.</td>\n",
       "      <td>Health Care</td>\n",
       "      <td>108.48</td>\n",
       "      <td>19.41</td>\n",
       "      <td>2.499560</td>\n",
       "      <td>3.29</td>\n",
       "      <td>125.860</td>\n",
       "      <td>60.050</td>\n",
       "      <td>1.813863e+11</td>\n",
       "      <td>1.031000e+10</td>\n",
       "      <td>6.291571</td>\n",
       "      <td>26.14</td>\n",
       "      <td>http://www.sec.gov/cgi-bin/browse-edgar?action...</td>\n",
       "    </tr>\n",
       "    <tr>\n",
       "      <th>4</th>\n",
       "      <td>ACN</td>\n",
       "      <td>Accenture plc</td>\n",
       "      <td>Information Technology</td>\n",
       "      <td>150.51</td>\n",
       "      <td>25.47</td>\n",
       "      <td>1.714470</td>\n",
       "      <td>5.44</td>\n",
       "      <td>162.600</td>\n",
       "      <td>114.820</td>\n",
       "      <td>9.876586e+10</td>\n",
       "      <td>5.643228e+09</td>\n",
       "      <td>2.604117</td>\n",
       "      <td>10.62</td>\n",
       "      <td>http://www.sec.gov/cgi-bin/browse-edgar?action...</td>\n",
       "    </tr>\n",
       "    <tr>\n",
       "      <th>5</th>\n",
       "      <td>ATVI</td>\n",
       "      <td>Activision Blizzard</td>\n",
       "      <td>Information Technology</td>\n",
       "      <td>65.83</td>\n",
       "      <td>31.80</td>\n",
       "      <td>0.431903</td>\n",
       "      <td>1.28</td>\n",
       "      <td>74.945</td>\n",
       "      <td>38.930</td>\n",
       "      <td>5.251867e+10</td>\n",
       "      <td>2.704000e+09</td>\n",
       "      <td>10.595120</td>\n",
       "      <td>5.16</td>\n",
       "      <td>http://www.sec.gov/cgi-bin/browse-edgar?action...</td>\n",
       "    </tr>\n",
       "    <tr>\n",
       "      <th>6</th>\n",
       "      <td>AYI</td>\n",
       "      <td>Acuity Brands Inc</td>\n",
       "      <td>Industrials</td>\n",
       "      <td>145.41</td>\n",
       "      <td>18.22</td>\n",
       "      <td>0.351185</td>\n",
       "      <td>7.43</td>\n",
       "      <td>225.360</td>\n",
       "      <td>142.000</td>\n",
       "      <td>6.242378e+09</td>\n",
       "      <td>5.878000e+08</td>\n",
       "      <td>1.795347</td>\n",
       "      <td>3.55</td>\n",
       "      <td>http://www.sec.gov/cgi-bin/browse-edgar?action...</td>\n",
       "    </tr>\n",
       "    <tr>\n",
       "      <th>7</th>\n",
       "      <td>ADBE</td>\n",
       "      <td>Adobe Systems Inc</td>\n",
       "      <td>Information Technology</td>\n",
       "      <td>185.16</td>\n",
       "      <td>52.31</td>\n",
       "      <td>0.000000</td>\n",
       "      <td>3.39</td>\n",
       "      <td>204.450</td>\n",
       "      <td>114.451</td>\n",
       "      <td>9.455021e+10</td>\n",
       "      <td>2.538040e+09</td>\n",
       "      <td>13.092818</td>\n",
       "      <td>11.06</td>\n",
       "      <td>http://www.sec.gov/cgi-bin/browse-edgar?action...</td>\n",
       "    </tr>\n",
       "    <tr>\n",
       "      <th>8</th>\n",
       "      <td>AAP</td>\n",
       "      <td>Advance Auto Parts</td>\n",
       "      <td>Consumer Discretionary</td>\n",
       "      <td>109.63</td>\n",
       "      <td>19.54</td>\n",
       "      <td>0.218321</td>\n",
       "      <td>6.19</td>\n",
       "      <td>169.550</td>\n",
       "      <td>78.810</td>\n",
       "      <td>8.123612e+09</td>\n",
       "      <td>8.539410e+08</td>\n",
       "      <td>1.130106</td>\n",
       "      <td>2.51</td>\n",
       "      <td>http://www.sec.gov/cgi-bin/browse-edgar?action...</td>\n",
       "    </tr>\n",
       "    <tr>\n",
       "      <th>9</th>\n",
       "      <td>AMD</td>\n",
       "      <td>Advanced Micro Devices Inc</td>\n",
       "      <td>Information Technology</td>\n",
       "      <td>11.22</td>\n",
       "      <td>187.00</td>\n",
       "      <td>0.000000</td>\n",
       "      <td>0.03</td>\n",
       "      <td>15.650</td>\n",
       "      <td>9.700</td>\n",
       "      <td>1.119166e+10</td>\n",
       "      <td>3.390000e+08</td>\n",
       "      <td>2.109195</td>\n",
       "      <td>21.47</td>\n",
       "      <td>http://www.sec.gov/cgi-bin/browse-edgar?action...</td>\n",
       "    </tr>\n",
       "  </tbody>\n",
       "</table>\n",
       "</div>"
      ],
      "text/plain": [
       "  Symbol                        Name                  Sector   Price  \\\n",
       "0    MMM                  3M Company             Industrials  222.89   \n",
       "1    AOS             A.O. Smith Corp             Industrials   60.24   \n",
       "2    ABT         Abbott Laboratories             Health Care   56.27   \n",
       "3   ABBV                 AbbVie Inc.             Health Care  108.48   \n",
       "4    ACN               Accenture plc  Information Technology  150.51   \n",
       "5   ATVI         Activision Blizzard  Information Technology   65.83   \n",
       "6    AYI           Acuity Brands Inc             Industrials  145.41   \n",
       "7   ADBE           Adobe Systems Inc  Information Technology  185.16   \n",
       "8    AAP          Advance Auto Parts  Consumer Discretionary  109.63   \n",
       "9    AMD  Advanced Micro Devices Inc  Information Technology   11.22   \n",
       "\n",
       "   Price/Earnings  Dividend Yield  Earnings/Share  52 Week Low  52 Week High  \\\n",
       "0           24.31        2.332862            7.92      259.770       175.490   \n",
       "1           27.76        1.147959            1.70       68.390        48.925   \n",
       "2           22.51        1.908982            0.26       64.600        42.280   \n",
       "3           19.41        2.499560            3.29      125.860        60.050   \n",
       "4           25.47        1.714470            5.44      162.600       114.820   \n",
       "5           31.80        0.431903            1.28       74.945        38.930   \n",
       "6           18.22        0.351185            7.43      225.360       142.000   \n",
       "7           52.31        0.000000            3.39      204.450       114.451   \n",
       "8           19.54        0.218321            6.19      169.550        78.810   \n",
       "9          187.00        0.000000            0.03       15.650         9.700   \n",
       "\n",
       "     Market Cap        EBITDA  Price/Sales  Price/Book  \\\n",
       "0  1.387211e+11  9.048000e+09     4.390271       11.34   \n",
       "1  1.078342e+10  6.010000e+08     3.575483        6.35   \n",
       "2  1.021210e+11  5.744000e+09     3.740480        3.19   \n",
       "3  1.813863e+11  1.031000e+10     6.291571       26.14   \n",
       "4  9.876586e+10  5.643228e+09     2.604117       10.62   \n",
       "5  5.251867e+10  2.704000e+09    10.595120        5.16   \n",
       "6  6.242378e+09  5.878000e+08     1.795347        3.55   \n",
       "7  9.455021e+10  2.538040e+09    13.092818       11.06   \n",
       "8  8.123612e+09  8.539410e+08     1.130106        2.51   \n",
       "9  1.119166e+10  3.390000e+08     2.109195       21.47   \n",
       "\n",
       "                                         SEC Filings  \n",
       "0  http://www.sec.gov/cgi-bin/browse-edgar?action...  \n",
       "1  http://www.sec.gov/cgi-bin/browse-edgar?action...  \n",
       "2  http://www.sec.gov/cgi-bin/browse-edgar?action...  \n",
       "3  http://www.sec.gov/cgi-bin/browse-edgar?action...  \n",
       "4  http://www.sec.gov/cgi-bin/browse-edgar?action...  \n",
       "5  http://www.sec.gov/cgi-bin/browse-edgar?action...  \n",
       "6  http://www.sec.gov/cgi-bin/browse-edgar?action...  \n",
       "7  http://www.sec.gov/cgi-bin/browse-edgar?action...  \n",
       "8  http://www.sec.gov/cgi-bin/browse-edgar?action...  \n",
       "9  http://www.sec.gov/cgi-bin/browse-edgar?action...  "
      ]
     },
     "execution_count": 4,
     "metadata": {},
     "output_type": "execute_result"
    }
   ],
   "source": [
    "data.head(10)"
   ]
  },
  {
   "cell_type": "markdown",
   "id": "4933c3cf",
   "metadata": {
    "papermill": {
     "duration": 0.010589,
     "end_time": "2024-02-15T07:13:12.469758",
     "exception": false,
     "start_time": "2024-02-15T07:13:12.459169",
     "status": "completed"
    },
    "tags": []
   },
   "source": [
    "## Description of the Dataset - Rows & Columns"
   ]
  },
  {
   "cell_type": "code",
   "execution_count": 5,
   "id": "2880dce8",
   "metadata": {
    "execution": {
     "iopub.execute_input": "2024-02-15T07:13:12.493569Z",
     "iopub.status.busy": "2024-02-15T07:13:12.493166Z",
     "iopub.status.idle": "2024-02-15T07:13:12.500019Z",
     "shell.execute_reply": "2024-02-15T07:13:12.498931Z"
    },
    "papermill": {
     "duration": 0.021953,
     "end_time": "2024-02-15T07:13:12.502584",
     "exception": false,
     "start_time": "2024-02-15T07:13:12.480631",
     "status": "completed"
    },
    "tags": []
   },
   "outputs": [
    {
     "data": {
      "text/plain": [
       "(505, 14)"
      ]
     },
     "execution_count": 5,
     "metadata": {},
     "output_type": "execute_result"
    }
   ],
   "source": [
    "data.shape"
   ]
  },
  {
   "cell_type": "markdown",
   "id": "1cb297b7",
   "metadata": {
    "papermill": {
     "duration": 0.010888,
     "end_time": "2024-02-15T07:13:12.524800",
     "exception": false,
     "start_time": "2024-02-15T07:13:12.513912",
     "status": "completed"
    },
    "tags": []
   },
   "source": [
    "* There are 505 rows and 14 columns / features"
   ]
  },
  {
   "cell_type": "markdown",
   "id": "7fd83d02",
   "metadata": {
    "papermill": {
     "duration": 0.01141,
     "end_time": "2024-02-15T07:13:12.547535",
     "exception": false,
     "start_time": "2024-02-15T07:13:12.536125",
     "status": "completed"
    },
    "tags": []
   },
   "source": [
    "## Description of the Dataset - Names of Columns"
   ]
  },
  {
   "cell_type": "code",
   "execution_count": 6,
   "id": "087e8eb0",
   "metadata": {
    "execution": {
     "iopub.execute_input": "2024-02-15T07:13:12.571961Z",
     "iopub.status.busy": "2024-02-15T07:13:12.571582Z",
     "iopub.status.idle": "2024-02-15T07:13:12.578410Z",
     "shell.execute_reply": "2024-02-15T07:13:12.577260Z"
    },
    "papermill": {
     "duration": 0.022071,
     "end_time": "2024-02-15T07:13:12.580891",
     "exception": false,
     "start_time": "2024-02-15T07:13:12.558820",
     "status": "completed"
    },
    "tags": []
   },
   "outputs": [
    {
     "data": {
      "text/plain": [
       "Index(['Symbol', 'Name', 'Sector', 'Price', 'Price/Earnings', 'Dividend Yield',\n",
       "       'Earnings/Share', '52 Week Low', '52 Week High', 'Market Cap', 'EBITDA',\n",
       "       'Price/Sales', 'Price/Book', 'SEC Filings'],\n",
       "      dtype='object')"
      ]
     },
     "execution_count": 6,
     "metadata": {},
     "output_type": "execute_result"
    }
   ],
   "source": [
    "data.columns"
   ]
  },
  {
   "cell_type": "markdown",
   "id": "f756d12a",
   "metadata": {
    "papermill": {
     "duration": 0.010987,
     "end_time": "2024-02-15T07:13:12.603268",
     "exception": false,
     "start_time": "2024-02-15T07:13:12.592281",
     "status": "completed"
    },
    "tags": []
   },
   "source": [
    "## Description of the Dataset - Datatypes in Columns"
   ]
  },
  {
   "cell_type": "code",
   "execution_count": 7,
   "id": "ab9e7392",
   "metadata": {
    "execution": {
     "iopub.execute_input": "2024-02-15T07:13:12.627952Z",
     "iopub.status.busy": "2024-02-15T07:13:12.627546Z",
     "iopub.status.idle": "2024-02-15T07:13:12.635667Z",
     "shell.execute_reply": "2024-02-15T07:13:12.634500Z"
    },
    "papermill": {
     "duration": 0.023218,
     "end_time": "2024-02-15T07:13:12.637961",
     "exception": false,
     "start_time": "2024-02-15T07:13:12.614743",
     "status": "completed"
    },
    "tags": []
   },
   "outputs": [
    {
     "data": {
      "text/plain": [
       "Symbol             object\n",
       "Name               object\n",
       "Sector             object\n",
       "Price             float64\n",
       "Price/Earnings    float64\n",
       "Dividend Yield    float64\n",
       "Earnings/Share    float64\n",
       "52 Week Low       float64\n",
       "52 Week High      float64\n",
       "Market Cap        float64\n",
       "EBITDA            float64\n",
       "Price/Sales       float64\n",
       "Price/Book        float64\n",
       "SEC Filings        object\n",
       "dtype: object"
      ]
     },
     "execution_count": 7,
     "metadata": {},
     "output_type": "execute_result"
    }
   ],
   "source": [
    "data.dtypes"
   ]
  },
  {
   "cell_type": "markdown",
   "id": "1842c34e",
   "metadata": {
    "papermill": {
     "duration": 0.011892,
     "end_time": "2024-02-15T07:13:12.661265",
     "exception": false,
     "start_time": "2024-02-15T07:13:12.649373",
     "status": "completed"
    },
    "tags": []
   },
   "source": [
    "* There are 10 numerical columns (Price, Price/Earnings, Dividend Yield, EPS, 52 week Low, 52 week High, Market cap, EBITDA, Price/sales, Price/Book) and one categorical columns (Sector)"
   ]
  },
  {
   "cell_type": "markdown",
   "id": "3515cea5",
   "metadata": {
    "papermill": {
     "duration": 0.0115,
     "end_time": "2024-02-15T07:13:12.684298",
     "exception": false,
     "start_time": "2024-02-15T07:13:12.672798",
     "status": "completed"
    },
    "tags": []
   },
   "source": [
    "## Displaying information about Dataset\n",
    "\n",
    "* pandas.info() --> prints information about the DataFrame. The information contains the number of columns, column labels, column data types, memory usage, range index, and the number of cells in each column (non-null values)."
   ]
  },
  {
   "cell_type": "code",
   "execution_count": 8,
   "id": "af2d3876",
   "metadata": {
    "execution": {
     "iopub.execute_input": "2024-02-15T07:13:12.709309Z",
     "iopub.status.busy": "2024-02-15T07:13:12.708860Z",
     "iopub.status.idle": "2024-02-15T07:13:12.737506Z",
     "shell.execute_reply": "2024-02-15T07:13:12.736316Z"
    },
    "papermill": {
     "duration": 0.044371,
     "end_time": "2024-02-15T07:13:12.740384",
     "exception": false,
     "start_time": "2024-02-15T07:13:12.696013",
     "status": "completed"
    },
    "tags": []
   },
   "outputs": [
    {
     "name": "stdout",
     "output_type": "stream",
     "text": [
      "<class 'pandas.core.frame.DataFrame'>\n",
      "RangeIndex: 505 entries, 0 to 504\n",
      "Data columns (total 14 columns):\n",
      " #   Column          Non-Null Count  Dtype  \n",
      "---  ------          --------------  -----  \n",
      " 0   Symbol          505 non-null    object \n",
      " 1   Name            505 non-null    object \n",
      " 2   Sector          505 non-null    object \n",
      " 3   Price           505 non-null    float64\n",
      " 4   Price/Earnings  503 non-null    float64\n",
      " 5   Dividend Yield  505 non-null    float64\n",
      " 6   Earnings/Share  505 non-null    float64\n",
      " 7   52 Week Low     505 non-null    float64\n",
      " 8   52 Week High    505 non-null    float64\n",
      " 9   Market Cap      505 non-null    float64\n",
      " 10  EBITDA          505 non-null    float64\n",
      " 11  Price/Sales     505 non-null    float64\n",
      " 12  Price/Book      497 non-null    float64\n",
      " 13  SEC Filings     505 non-null    object \n",
      "dtypes: float64(10), object(4)\n",
      "memory usage: 55.4+ KB\n"
     ]
    }
   ],
   "source": [
    "data.info()"
   ]
  },
  {
   "cell_type": "markdown",
   "id": "d8183b66",
   "metadata": {
    "papermill": {
     "duration": 0.01127,
     "end_time": "2024-02-15T07:13:12.763437",
     "exception": false,
     "start_time": "2024-02-15T07:13:12.752167",
     "status": "completed"
    },
    "tags": []
   },
   "source": [
    "## Printing the description about the dataset"
   ]
  },
  {
   "cell_type": "code",
   "execution_count": 9,
   "id": "e6f850ba",
   "metadata": {
    "execution": {
     "iopub.execute_input": "2024-02-15T07:13:12.788865Z",
     "iopub.status.busy": "2024-02-15T07:13:12.788410Z",
     "iopub.status.idle": "2024-02-15T07:13:12.835001Z",
     "shell.execute_reply": "2024-02-15T07:13:12.833742Z"
    },
    "papermill": {
     "duration": 0.062688,
     "end_time": "2024-02-15T07:13:12.837667",
     "exception": false,
     "start_time": "2024-02-15T07:13:12.774979",
     "status": "completed"
    },
    "tags": []
   },
   "outputs": [
    {
     "data": {
      "text/html": [
       "<div>\n",
       "<style scoped>\n",
       "    .dataframe tbody tr th:only-of-type {\n",
       "        vertical-align: middle;\n",
       "    }\n",
       "\n",
       "    .dataframe tbody tr th {\n",
       "        vertical-align: top;\n",
       "    }\n",
       "\n",
       "    .dataframe thead th {\n",
       "        text-align: right;\n",
       "    }\n",
       "</style>\n",
       "<table border=\"1\" class=\"dataframe\">\n",
       "  <thead>\n",
       "    <tr style=\"text-align: right;\">\n",
       "      <th></th>\n",
       "      <th>Price</th>\n",
       "      <th>Price/Earnings</th>\n",
       "      <th>Dividend Yield</th>\n",
       "      <th>Earnings/Share</th>\n",
       "      <th>52 Week Low</th>\n",
       "      <th>52 Week High</th>\n",
       "      <th>Market Cap</th>\n",
       "      <th>EBITDA</th>\n",
       "      <th>Price/Sales</th>\n",
       "      <th>Price/Book</th>\n",
       "    </tr>\n",
       "  </thead>\n",
       "  <tbody>\n",
       "    <tr>\n",
       "      <th>count</th>\n",
       "      <td>505.000000</td>\n",
       "      <td>503.000000</td>\n",
       "      <td>505.000000</td>\n",
       "      <td>505.000000</td>\n",
       "      <td>505.000000</td>\n",
       "      <td>505.000000</td>\n",
       "      <td>5.050000e+02</td>\n",
       "      <td>5.050000e+02</td>\n",
       "      <td>505.000000</td>\n",
       "      <td>497.000000</td>\n",
       "    </tr>\n",
       "    <tr>\n",
       "      <th>mean</th>\n",
       "      <td>103.830634</td>\n",
       "      <td>24.808390</td>\n",
       "      <td>1.895953</td>\n",
       "      <td>3.753743</td>\n",
       "      <td>122.623832</td>\n",
       "      <td>83.536616</td>\n",
       "      <td>4.923944e+10</td>\n",
       "      <td>3.590328e+09</td>\n",
       "      <td>3.941705</td>\n",
       "      <td>14.453179</td>\n",
       "    </tr>\n",
       "    <tr>\n",
       "      <th>std</th>\n",
       "      <td>134.427636</td>\n",
       "      <td>41.241081</td>\n",
       "      <td>1.537214</td>\n",
       "      <td>5.689036</td>\n",
       "      <td>155.362140</td>\n",
       "      <td>105.725473</td>\n",
       "      <td>9.005017e+10</td>\n",
       "      <td>6.840544e+09</td>\n",
       "      <td>3.460110</td>\n",
       "      <td>89.660508</td>\n",
       "    </tr>\n",
       "    <tr>\n",
       "      <th>min</th>\n",
       "      <td>2.820000</td>\n",
       "      <td>-251.530000</td>\n",
       "      <td>0.000000</td>\n",
       "      <td>-28.010000</td>\n",
       "      <td>6.590000</td>\n",
       "      <td>2.800000</td>\n",
       "      <td>2.626102e+09</td>\n",
       "      <td>-5.067000e+09</td>\n",
       "      <td>0.153186</td>\n",
       "      <td>0.510000</td>\n",
       "    </tr>\n",
       "    <tr>\n",
       "      <th>25%</th>\n",
       "      <td>46.250000</td>\n",
       "      <td>15.350000</td>\n",
       "      <td>0.794834</td>\n",
       "      <td>1.490000</td>\n",
       "      <td>56.250000</td>\n",
       "      <td>38.430000</td>\n",
       "      <td>1.273207e+10</td>\n",
       "      <td>7.739320e+08</td>\n",
       "      <td>1.629490</td>\n",
       "      <td>2.020000</td>\n",
       "    </tr>\n",
       "    <tr>\n",
       "      <th>50%</th>\n",
       "      <td>73.920000</td>\n",
       "      <td>19.450000</td>\n",
       "      <td>1.769255</td>\n",
       "      <td>2.890000</td>\n",
       "      <td>86.680000</td>\n",
       "      <td>62.850000</td>\n",
       "      <td>2.140095e+10</td>\n",
       "      <td>1.614399e+09</td>\n",
       "      <td>2.896440</td>\n",
       "      <td>3.400000</td>\n",
       "    </tr>\n",
       "    <tr>\n",
       "      <th>75%</th>\n",
       "      <td>116.540000</td>\n",
       "      <td>25.750000</td>\n",
       "      <td>2.781114</td>\n",
       "      <td>5.140000</td>\n",
       "      <td>140.130000</td>\n",
       "      <td>96.660000</td>\n",
       "      <td>4.511968e+10</td>\n",
       "      <td>3.692749e+09</td>\n",
       "      <td>4.703842</td>\n",
       "      <td>6.110000</td>\n",
       "    </tr>\n",
       "    <tr>\n",
       "      <th>max</th>\n",
       "      <td>1806.060000</td>\n",
       "      <td>520.150000</td>\n",
       "      <td>12.661196</td>\n",
       "      <td>44.090000</td>\n",
       "      <td>2067.990000</td>\n",
       "      <td>1589.000000</td>\n",
       "      <td>8.095080e+11</td>\n",
       "      <td>7.938600e+10</td>\n",
       "      <td>20.094294</td>\n",
       "      <td>1403.380000</td>\n",
       "    </tr>\n",
       "  </tbody>\n",
       "</table>\n",
       "</div>"
      ],
      "text/plain": [
       "             Price  Price/Earnings  Dividend Yield  Earnings/Share  \\\n",
       "count   505.000000      503.000000      505.000000      505.000000   \n",
       "mean    103.830634       24.808390        1.895953        3.753743   \n",
       "std     134.427636       41.241081        1.537214        5.689036   \n",
       "min       2.820000     -251.530000        0.000000      -28.010000   \n",
       "25%      46.250000       15.350000        0.794834        1.490000   \n",
       "50%      73.920000       19.450000        1.769255        2.890000   \n",
       "75%     116.540000       25.750000        2.781114        5.140000   \n",
       "max    1806.060000      520.150000       12.661196       44.090000   \n",
       "\n",
       "       52 Week Low  52 Week High    Market Cap        EBITDA  Price/Sales  \\\n",
       "count   505.000000    505.000000  5.050000e+02  5.050000e+02   505.000000   \n",
       "mean    122.623832     83.536616  4.923944e+10  3.590328e+09     3.941705   \n",
       "std     155.362140    105.725473  9.005017e+10  6.840544e+09     3.460110   \n",
       "min       6.590000      2.800000  2.626102e+09 -5.067000e+09     0.153186   \n",
       "25%      56.250000     38.430000  1.273207e+10  7.739320e+08     1.629490   \n",
       "50%      86.680000     62.850000  2.140095e+10  1.614399e+09     2.896440   \n",
       "75%     140.130000     96.660000  4.511968e+10  3.692749e+09     4.703842   \n",
       "max    2067.990000   1589.000000  8.095080e+11  7.938600e+10    20.094294   \n",
       "\n",
       "        Price/Book  \n",
       "count   497.000000  \n",
       "mean     14.453179  \n",
       "std      89.660508  \n",
       "min       0.510000  \n",
       "25%       2.020000  \n",
       "50%       3.400000  \n",
       "75%       6.110000  \n",
       "max    1403.380000  "
      ]
     },
     "execution_count": 9,
     "metadata": {},
     "output_type": "execute_result"
    }
   ],
   "source": [
    "data.describe()"
   ]
  },
  {
   "cell_type": "markdown",
   "id": "54ddcdea",
   "metadata": {
    "papermill": {
     "duration": 0.012557,
     "end_time": "2024-02-15T07:13:12.863234",
     "exception": false,
     "start_time": "2024-02-15T07:13:12.850677",
     "status": "completed"
    },
    "tags": []
   },
   "source": [
    "## Checking Null Values"
   ]
  },
  {
   "cell_type": "code",
   "execution_count": 10,
   "id": "8defa40d",
   "metadata": {
    "execution": {
     "iopub.execute_input": "2024-02-15T07:13:12.890859Z",
     "iopub.status.busy": "2024-02-15T07:13:12.889989Z",
     "iopub.status.idle": "2024-02-15T07:13:12.898879Z",
     "shell.execute_reply": "2024-02-15T07:13:12.898026Z"
    },
    "papermill": {
     "duration": 0.025664,
     "end_time": "2024-02-15T07:13:12.901341",
     "exception": false,
     "start_time": "2024-02-15T07:13:12.875677",
     "status": "completed"
    },
    "tags": []
   },
   "outputs": [
    {
     "data": {
      "text/plain": [
       "Symbol            0\n",
       "Name              0\n",
       "Sector            0\n",
       "Price             0\n",
       "Price/Earnings    2\n",
       "Dividend Yield    0\n",
       "Earnings/Share    0\n",
       "52 Week Low       0\n",
       "52 Week High      0\n",
       "Market Cap        0\n",
       "EBITDA            0\n",
       "Price/Sales       0\n",
       "Price/Book        8\n",
       "SEC Filings       0\n",
       "dtype: int64"
      ]
     },
     "execution_count": 10,
     "metadata": {},
     "output_type": "execute_result"
    }
   ],
   "source": [
    "data.isnull().sum()"
   ]
  },
  {
   "cell_type": "markdown",
   "id": "1f3acbe0",
   "metadata": {
    "papermill": {
     "duration": 0.0118,
     "end_time": "2024-02-15T07:13:12.925319",
     "exception": false,
     "start_time": "2024-02-15T07:13:12.913519",
     "status": "completed"
    },
    "tags": []
   },
   "source": [
    "* There are 2 null values in column Price/Earning(PE ratio) and 8 price/book value"
   ]
  },
  {
   "cell_type": "markdown",
   "id": "3b4288d7",
   "metadata": {
    "papermill": {
     "duration": 0.01194,
     "end_time": "2024-02-15T07:13:12.949546",
     "exception": false,
     "start_time": "2024-02-15T07:13:12.937606",
     "status": "completed"
    },
    "tags": []
   },
   "source": [
    "## Printing missing rows in 'Price/Earnings' column"
   ]
  },
  {
   "cell_type": "code",
   "execution_count": 11,
   "id": "7a596404",
   "metadata": {
    "execution": {
     "iopub.execute_input": "2024-02-15T07:13:12.976817Z",
     "iopub.status.busy": "2024-02-15T07:13:12.975656Z",
     "iopub.status.idle": "2024-02-15T07:13:12.991365Z",
     "shell.execute_reply": "2024-02-15T07:13:12.989498Z"
    },
    "papermill": {
     "duration": 0.032623,
     "end_time": "2024-02-15T07:13:12.994269",
     "exception": false,
     "start_time": "2024-02-15T07:13:12.961646",
     "status": "completed"
    },
    "tags": []
   },
   "outputs": [
    {
     "name": "stdout",
     "output_type": "stream",
     "text": [
      "    Symbol            Name                  Sector  Price  Price/Earnings  \\\n",
      "360   PRGO         Perrigo             Health Care  84.44             NaN   \n",
      "430    TPR  Tapestry, Inc.  Consumer Discretionary  48.85             NaN   \n",
      "\n",
      "     Dividend Yield  Earnings/Share  52 Week Low  52 Week High    Market Cap  \\\n",
      "360        0.731261          -28.01        95.93         63.68  1.232638e+10   \n",
      "430        0.000000            2.09        50.71         36.69  1.424720e+10   \n",
      "\n",
      "     EBITDA  Price/Sales  Price/Book  \\\n",
      "360     0.0     3.385007        2.03   \n",
      "430     0.0     4.078549        4.35   \n",
      "\n",
      "                                           SEC Filings  \n",
      "360  http://www.sec.gov/cgi-bin/browse-edgar?action...  \n",
      "430  http://www.sec.gov/cgi-bin/browse-edgar?action...  \n"
     ]
    }
   ],
   "source": [
    "missing_rows_PE = data[data[['Price/Earnings']].isna().any(axis=1)]\n",
    "print(missing_rows_PE)\n"
   ]
  },
  {
   "cell_type": "markdown",
   "id": "71154511",
   "metadata": {
    "papermill": {
     "duration": 0.011902,
     "end_time": "2024-02-15T07:13:13.018487",
     "exception": false,
     "start_time": "2024-02-15T07:13:13.006585",
     "status": "completed"
    },
    "tags": []
   },
   "source": [
    "* Row number 360 and 430 has a missing values in 'Price/Earnings' column"
   ]
  },
  {
   "cell_type": "markdown",
   "id": "da67314c",
   "metadata": {
    "papermill": {
     "duration": 0.01203,
     "end_time": "2024-02-15T07:13:13.042817",
     "exception": false,
     "start_time": "2024-02-15T07:13:13.030787",
     "status": "completed"
    },
    "tags": []
   },
   "source": [
    "## Filling the missing values in 'Price/Earnings' column"
   ]
  },
  {
   "cell_type": "code",
   "execution_count": 12,
   "id": "cea5cd75",
   "metadata": {
    "execution": {
     "iopub.execute_input": "2024-02-15T07:13:13.070298Z",
     "iopub.status.busy": "2024-02-15T07:13:13.069880Z",
     "iopub.status.idle": "2024-02-15T07:13:13.079711Z",
     "shell.execute_reply": "2024-02-15T07:13:13.078235Z"
    },
    "papermill": {
     "duration": 0.02733,
     "end_time": "2024-02-15T07:13:13.082853",
     "exception": false,
     "start_time": "2024-02-15T07:13:13.055523",
     "status": "completed"
    },
    "tags": []
   },
   "outputs": [
    {
     "name": "stdout",
     "output_type": "stream",
     "text": [
      "Symbol            0\n",
      "Name              0\n",
      "Sector            0\n",
      "Price             0\n",
      "Price/Earnings    0\n",
      "Dividend Yield    0\n",
      "Earnings/Share    0\n",
      "52 Week Low       0\n",
      "52 Week High      0\n",
      "Market Cap        0\n",
      "EBITDA            0\n",
      "Price/Sales       0\n",
      "Price/Book        8\n",
      "SEC Filings       0\n",
      "dtype: int64\n"
     ]
    }
   ],
   "source": [
    "data['Price/Earnings'] = data['Price/Earnings'].fillna(data['Price/Earnings'].mean())\n",
    "print(data.isna().sum())"
   ]
  },
  {
   "cell_type": "markdown",
   "id": "c1fa4a2a",
   "metadata": {
    "papermill": {
     "duration": 0.012243,
     "end_time": "2024-02-15T07:13:13.107623",
     "exception": false,
     "start_time": "2024-02-15T07:13:13.095380",
     "status": "completed"
    },
    "tags": []
   },
   "source": [
    "* Now, there is no missing values in 'Price/Book' column"
   ]
  },
  {
   "cell_type": "markdown",
   "id": "a1b7ae67",
   "metadata": {
    "papermill": {
     "duration": 0.012488,
     "end_time": "2024-02-15T07:13:13.132819",
     "exception": false,
     "start_time": "2024-02-15T07:13:13.120331",
     "status": "completed"
    },
    "tags": []
   },
   "source": [
    "## Printing missing rows in 'Price/Book' column"
   ]
  },
  {
   "cell_type": "code",
   "execution_count": 13,
   "id": "d36f1a57",
   "metadata": {
    "execution": {
     "iopub.execute_input": "2024-02-15T07:13:13.161637Z",
     "iopub.status.busy": "2024-02-15T07:13:13.160943Z",
     "iopub.status.idle": "2024-02-15T07:13:13.178083Z",
     "shell.execute_reply": "2024-02-15T07:13:13.176361Z"
    },
    "papermill": {
     "duration": 0.03438,
     "end_time": "2024-02-15T07:13:13.180676",
     "exception": false,
     "start_time": "2024-02-15T07:13:13.146296",
     "status": "completed"
    },
    "tags": []
   },
   "outputs": [
    {
     "name": "stdout",
     "output_type": "stream",
     "text": [
      "    Symbol                  Name                  Sector   Price  \\\n",
      "55    ARNC           Arconic Inc             Industrials   24.45   \n",
      "199     FL       Foot Locker Inc  Consumer Discretionary   45.88   \n",
      "225    HCA          HCA Holdings             Health Care   95.97   \n",
      "292    MRO    Marathon Oil Corp.                  Energy   15.68   \n",
      "346    OXY  Occidental Petroleum                  Energy   68.47   \n",
      "358    PEP          PepsiCo Inc.        Consumer Staples  110.15   \n",
      "450    TDG       TransDigm Group             Industrials  283.00   \n",
      "460    UNP         Union Pacific             Industrials  124.86   \n",
      "\n",
      "     Price/Earnings  Dividend Yield  Earnings/Share  52 Week Low  \\\n",
      "55            20.21        0.956175           -0.21        31.17   \n",
      "199            9.50        2.582795            4.91        77.86   \n",
      "225           14.07        1.422764            5.94       106.84   \n",
      "292          -32.00        1.224740           -2.65        19.52   \n",
      "346          195.63        4.408186           -0.75        78.09   \n",
      "358           21.51        2.837004            4.36       122.51   \n",
      "450           23.76        0.000000            7.92       321.38   \n",
      "460           22.06        2.062655           13.52       143.05   \n",
      "\n",
      "     52 Week High    Market Cap        EBITDA  Price/Sales  Price/Book  \\\n",
      "55         21.755  1.212330e+10  1.517000e+09     0.942148         NaN   \n",
      "199        28.420  5.819080e+09  9.570000e+08     1.036295         NaN   \n",
      "225        71.180  3.444905e+10  8.202000e+09     0.725192         NaN   \n",
      "292        10.550  1.387501e+10  2.266000e+09     4.657876         NaN   \n",
      "346        57.200  5.346769e+10  5.205000e+09     6.044895         NaN   \n",
      "358       104.770  1.614133e+11  1.284300e+10     3.670506         NaN   \n",
      "450       203.720  1.524120e+10  1.635916e+09     4.268832         NaN   \n",
      "460       101.060  1.015133e+11  1.016900e+10     4.860507         NaN   \n",
      "\n",
      "                                           SEC Filings  \n",
      "55   http://www.sec.gov/cgi-bin/browse-edgar?action...  \n",
      "199  http://www.sec.gov/cgi-bin/browse-edgar?action...  \n",
      "225  http://www.sec.gov/cgi-bin/browse-edgar?action...  \n",
      "292  http://www.sec.gov/cgi-bin/browse-edgar?action...  \n",
      "346  http://www.sec.gov/cgi-bin/browse-edgar?action...  \n",
      "358  http://www.sec.gov/cgi-bin/browse-edgar?action...  \n",
      "450  http://www.sec.gov/cgi-bin/browse-edgar?action...  \n",
      "460  http://www.sec.gov/cgi-bin/browse-edgar?action...  \n"
     ]
    }
   ],
   "source": [
    "missing_rows_PB = data[data[['Price/Book']].isna().any(axis=1)]\n",
    "print(missing_rows_PB)\n"
   ]
  },
  {
   "cell_type": "markdown",
   "id": "112d5b38",
   "metadata": {
    "papermill": {
     "duration": 0.012681,
     "end_time": "2024-02-15T07:13:13.207436",
     "exception": false,
     "start_time": "2024-02-15T07:13:13.194755",
     "status": "completed"
    },
    "tags": []
   },
   "source": [
    "* Row number: 55,199,225,292,346,358,450,460 has missing values in 'Price/Book' column"
   ]
  },
  {
   "cell_type": "markdown",
   "id": "47137f59",
   "metadata": {
    "papermill": {
     "duration": 0.012289,
     "end_time": "2024-02-15T07:13:13.232590",
     "exception": false,
     "start_time": "2024-02-15T07:13:13.220301",
     "status": "completed"
    },
    "tags": []
   },
   "source": [
    "## Filling the missing values in 'Price/Book' column"
   ]
  },
  {
   "cell_type": "code",
   "execution_count": 14,
   "id": "e70deec7",
   "metadata": {
    "execution": {
     "iopub.execute_input": "2024-02-15T07:13:13.260369Z",
     "iopub.status.busy": "2024-02-15T07:13:13.259747Z",
     "iopub.status.idle": "2024-02-15T07:13:13.269341Z",
     "shell.execute_reply": "2024-02-15T07:13:13.268180Z"
    },
    "papermill": {
     "duration": 0.026803,
     "end_time": "2024-02-15T07:13:13.272081",
     "exception": false,
     "start_time": "2024-02-15T07:13:13.245278",
     "status": "completed"
    },
    "tags": []
   },
   "outputs": [
    {
     "name": "stdout",
     "output_type": "stream",
     "text": [
      "Symbol            0\n",
      "Name              0\n",
      "Sector            0\n",
      "Price             0\n",
      "Price/Earnings    0\n",
      "Dividend Yield    0\n",
      "Earnings/Share    0\n",
      "52 Week Low       0\n",
      "52 Week High      0\n",
      "Market Cap        0\n",
      "EBITDA            0\n",
      "Price/Sales       0\n",
      "Price/Book        0\n",
      "SEC Filings       0\n",
      "dtype: int64\n"
     ]
    }
   ],
   "source": [
    "data['Price/Book'] = data['Price/Book'].fillna(data['Price/Book'].mean())\n",
    "print(data.isna().sum())"
   ]
  },
  {
   "cell_type": "markdown",
   "id": "83a75304",
   "metadata": {
    "papermill": {
     "duration": 0.012392,
     "end_time": "2024-02-15T07:13:13.297569",
     "exception": false,
     "start_time": "2024-02-15T07:13:13.285177",
     "status": "completed"
    },
    "tags": []
   },
   "source": [
    "* Now, there is no missing values in 'Price/Book' column"
   ]
  },
  {
   "cell_type": "code",
   "execution_count": null,
   "id": "658ad02f",
   "metadata": {
    "papermill": {
     "duration": 0.012298,
     "end_time": "2024-02-15T07:13:13.322557",
     "exception": false,
     "start_time": "2024-02-15T07:13:13.310259",
     "status": "completed"
    },
    "tags": []
   },
   "outputs": [],
   "source": []
  },
  {
   "cell_type": "markdown",
   "id": "ce4747ad",
   "metadata": {
    "papermill": {
     "duration": 0.012501,
     "end_time": "2024-02-15T07:13:13.347638",
     "exception": false,
     "start_time": "2024-02-15T07:13:13.335137",
     "status": "completed"
    },
    "tags": []
   },
   "source": []
  },
  {
   "cell_type": "markdown",
   "id": "a09f554e",
   "metadata": {
    "papermill": {
     "duration": 0.012299,
     "end_time": "2024-02-15T07:13:13.372907",
     "exception": false,
     "start_time": "2024-02-15T07:13:13.360608",
     "status": "completed"
    },
    "tags": []
   },
   "source": []
  }
 ],
 "metadata": {
  "kaggle": {
   "accelerator": "none",
   "dataSources": [
    {
     "datasetId": 1298871,
     "sourceId": 2163900,
     "sourceType": "datasetVersion"
    }
   ],
   "dockerImageVersionId": 30646,
   "isGpuEnabled": false,
   "isInternetEnabled": false,
   "language": "python",
   "sourceType": "notebook"
  },
  "kernelspec": {
   "display_name": "Python 3",
   "language": "python",
   "name": "python3"
  },
  "language_info": {
   "codemirror_mode": {
    "name": "ipython",
    "version": 3
   },
   "file_extension": ".py",
   "mimetype": "text/x-python",
   "name": "python",
   "nbconvert_exporter": "python",
   "pygments_lexer": "ipython3",
   "version": "3.10.13"
  },
  "papermill": {
   "default_parameters": {},
   "duration": 7.288222,
   "end_time": "2024-02-15T07:13:14.007074",
   "environment_variables": {},
   "exception": null,
   "input_path": "__notebook__.ipynb",
   "output_path": "__notebook__.ipynb",
   "parameters": {},
   "start_time": "2024-02-15T07:13:06.718852",
   "version": "2.5.0"
  }
 },
 "nbformat": 4,
 "nbformat_minor": 5
}
